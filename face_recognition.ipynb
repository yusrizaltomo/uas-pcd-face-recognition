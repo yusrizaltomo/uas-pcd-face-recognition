{
  "nbformat": 4,
  "nbformat_minor": 0,
  "metadata": {
    "colab": {
      "provenance": [],
      "include_colab_link": true
    },
    "kernelspec": {
      "name": "python3",
      "display_name": "Python 3"
    },
    "language_info": {
      "name": "python"
    }
  },
  "cells": [
    {
      "cell_type": "markdown",
      "metadata": {
        "id": "view-in-github",
        "colab_type": "text"
      },
      "source": [
        "<a href=\"https://colab.research.google.com/github/yusrizaltomo/uas-pcd-face-recognition/blob/master/face_recognition.ipynb\" target=\"_parent\"><img src=\"https://colab.research.google.com/assets/colab-badge.svg\" alt=\"Open In Colab\"/></a>"
      ]
    },
    {
      "cell_type": "code",
      "execution_count": null,
      "metadata": {
        "id": "f0bhOjYX6l-d"
      },
      "outputs": [],
      "source": [
        "!git clone https://github.com/yusrizaltomo/uas-pcd-face-recognition.git"
      ]
    },
    {
      "cell_type": "code",
      "source": [
        "import numpy as np\n",
        "import cv2 as cv\n",
        "from google.colab.patches import cv2_imshow"
      ],
      "metadata": {
        "id": "8kqWhXvg7NuY"
      },
      "execution_count": 2,
      "outputs": []
    },
    {
      "cell_type": "code",
      "source": [
        "haar_cascade = cv.CascadeClassifier('uas-pcd-face-recognition/haar_face.xml')"
      ],
      "metadata": {
        "id": "SWTay2ix7P82"
      },
      "execution_count": 3,
      "outputs": []
    },
    {
      "cell_type": "code",
      "source": [
        "people = ['Ben Afflek', 'Elton John', 'Jerry Seinfield', 'Madonna', 'Mindy Kaling']"
      ],
      "metadata": {
        "id": "-W3DaTSY7c09"
      },
      "execution_count": 4,
      "outputs": []
    },
    {
      "cell_type": "code",
      "source": [
        "# features = np.load('features.npy', allow_pickle=True)\n",
        "# labels = np.load('labels.npy')\n",
        "\n",
        "face_recognizer = cv.face.LBPHFaceRecognizer_create()\n",
        "face_recognizer.read('uas-pcd-face-recognition/face_trained.yml')"
      ],
      "metadata": {
        "id": "kVEm5RpM7k8M"
      },
      "execution_count": 5,
      "outputs": []
    },
    {
      "cell_type": "code",
      "source": [
        "img = cv.imread(r'uas-pcd-face-recognition/img/test/elton_john/1.jpg')\n",
        "# img = cv.imread(r'uas-pcd-face-recognition/img/test/madonna/4.jpg')\n",
        "# img = cv.imread(r'uas-pcd-face-recognition/img/test/ben_afflek/5.jpg')\n",
        "# img = cv.imread(r'uas-pcd-face-recognition/img/test/jerry_seinfeld/3.jpg')"
      ],
      "metadata": {
        "id": "q6EBIOun7v3I"
      },
      "execution_count": 6,
      "outputs": []
    },
    {
      "cell_type": "code",
      "source": [
        "gray = cv.cvtColor(img, cv.COLOR_BGR2GRAY)\n",
        "cv2_imshow(gray)"
      ],
      "metadata": {
        "id": "amS3XnoA739a"
      },
      "execution_count": null,
      "outputs": []
    },
    {
      "cell_type": "code",
      "source": [
        "faces_rect = haar_cascade.detectMultiScale(gray, 1.1, 4)\n",
        "\n",
        "for (x,y,w,h) in faces_rect:\n",
        "    faces_roi = gray[y:y+h,x:x+w]\n",
        "\n",
        "    label, confidence = face_recognizer.predict(faces_roi)\n",
        "    print(f'Label = {people[label]} dengan nilai confidence sebesar {confidence}')\n",
        "\n",
        "    cv.putText(img, str(people[label]), (20,20), cv.FONT_HERSHEY_COMPLEX, 1.0, (0,255,0), thickness=2)\n",
        "    cv.rectangle(img, (x,y), (x+w,y+h), (0,255,0), thickness=2)"
      ],
      "metadata": {
        "id": "tc3ZLRLc8Gbq"
      },
      "execution_count": null,
      "outputs": []
    },
    {
      "cell_type": "code",
      "source": [
        "cv2_imshow(img)"
      ],
      "metadata": {
        "id": "Xmk-UiwW8JTu"
      },
      "execution_count": null,
      "outputs": []
    }
  ]
}