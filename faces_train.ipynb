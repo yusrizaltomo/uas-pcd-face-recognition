{
  "nbformat": 4,
  "nbformat_minor": 0,
  "metadata": {
    "colab": {
      "provenance": [],
      "include_colab_link": true
    },
    "kernelspec": {
      "name": "python3",
      "display_name": "Python 3"
    },
    "language_info": {
      "name": "python"
    }
  },
  "cells": [
    {
      "cell_type": "markdown",
      "metadata": {
        "id": "view-in-github",
        "colab_type": "text"
      },
      "source": [
        "<a href=\"https://colab.research.google.com/github/yusrizaltomo/uas-pcd-face-recognition/blob/master/faces_train.ipynb\" target=\"_parent\"><img src=\"https://colab.research.google.com/assets/colab-badge.svg\" alt=\"Open In Colab\"/></a>"
      ]
    },
    {
      "cell_type": "code",
      "source": [
        "!git clone https://github.com/yusrizaltomo/uas-pcd-face-recognition.git"
      ],
      "metadata": {
        "id": "5gui0mjuysi3",
        "outputId": "e06f21d5-ce1a-43f3-9fd1-d6261a42d6c4",
        "colab": {
          "base_uri": "https://localhost:8080/"
        }
      },
      "execution_count": 1,
      "outputs": [
        {
          "output_type": "stream",
          "name": "stdout",
          "text": [
            "Cloning into 'uas-pcd-face-recognition'...\n",
            "remote: Enumerating objects: 137, done.\u001b[K\n",
            "remote: Counting objects: 100% (137/137), done.\u001b[K\n",
            "remote: Compressing objects: 100% (137/137), done.\u001b[K\n",
            "remote: Total 137 (delta 0), reused 134 (delta 0), pack-reused 0\u001b[K\n",
            "Receiving objects: 100% (137/137), 2.62 MiB | 14.73 MiB/s, done.\n"
          ]
        }
      ]
    },
    {
      "cell_type": "code",
      "execution_count": 2,
      "metadata": {
        "id": "LIfps3P6jvmy"
      },
      "outputs": [],
      "source": [
        "import os\n",
        "import cv2 as cv\n",
        "import numpy as np\n",
        "from google.colab.patches import cv2_imshow"
      ]
    },
    {
      "cell_type": "code",
      "source": [
        "people = ['Ben Afflek', 'Elton John', 'Jerry Seinfield', 'Madonna', 'Mindy Kaling']\n",
        "DIR = r'uas-pcd-face-recognition/img/train'"
      ],
      "metadata": {
        "id": "TEdpXBY9lAEo"
      },
      "execution_count": 3,
      "outputs": []
    },
    {
      "cell_type": "code",
      "source": [
        "haar_cascade = cv.CascadeClassifier('uas-pcd-face-recognition/haar_face.xml')"
      ],
      "metadata": {
        "id": "bYovH2ylzOsE"
      },
      "execution_count": 4,
      "outputs": []
    },
    {
      "cell_type": "code",
      "source": [
        "features = []\n",
        "labels = []\n",
        "\n",
        "def create_train():\n",
        "    for person in people:\n",
        "        path = os.path.join(DIR, person)\n",
        "        label = people.index(person)\n",
        "\n",
        "        for img in os.listdir(path):\n",
        "            img_path = os.path.join(path,img)\n",
        "\n",
        "            img_array = cv.imread(img_path)\n",
        "            if img_array is None:\n",
        "                continue\n",
        "\n",
        "            gray = cv.cvtColor(img_array, cv.COLOR_BGR2GRAY)\n",
        "\n",
        "            faces_rect = haar_cascade.detectMultiScale(gray, scaleFactor=1.1, minNeighbors=4)\n",
        "\n",
        "            for (x,y,w,h) in faces_rect:\n",
        "                faces_roi = gray[y:y+h, x:x+w]\n",
        "                features.append(faces_roi)\n",
        "                labels.append(label)"
      ],
      "metadata": {
        "id": "ITNlPpgCzhzs"
      },
      "execution_count": 5,
      "outputs": []
    },
    {
      "cell_type": "code",
      "source": [
        "create_train()\n",
        "print('Training done ---------------')"
      ],
      "metadata": {
        "id": "_WHOLDgvzkh9",
        "outputId": "8f4c48ed-b17e-41ad-e190-67d76ae13080",
        "colab": {
          "base_uri": "https://localhost:8080/"
        }
      },
      "execution_count": 6,
      "outputs": [
        {
          "output_type": "stream",
          "name": "stdout",
          "text": [
            "Training done ---------------\n"
          ]
        }
      ]
    },
    {
      "cell_type": "code",
      "source": [
        "features = np.array(features, dtype='object')\n",
        "labels = np.array(labels)\n",
        "\n",
        "face_recognizer = cv.face.LBPHFaceRecognizer_create()"
      ],
      "metadata": {
        "id": "8odpufoDznti"
      },
      "execution_count": 7,
      "outputs": []
    },
    {
      "cell_type": "code",
      "source": [
        "face_recognizer.train(features,labels)"
      ],
      "metadata": {
        "id": "Gs3TRC9gzr8Q"
      },
      "execution_count": 8,
      "outputs": []
    },
    {
      "cell_type": "code",
      "source": [
        "face_recognizer.save('face_trained.yml')\n",
        "np.save('features.npy', features)\n",
        "np.save('labels.npy', labels)"
      ],
      "metadata": {
        "id": "pRLlMEblztxH"
      },
      "execution_count": null,
      "outputs": []
    }
  ]
}